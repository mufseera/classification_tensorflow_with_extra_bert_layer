{
  "nbformat": 4,
  "nbformat_minor": 0,
  "metadata": {
    "colab": {
      "provenance": []
    },
    "kernelspec": {
      "name": "python3",
      "display_name": "Python 3"
    },
    "language_info": {
      "name": "python"
    },
    "accelerator": "GPU",
    "gpuClass": "standard"
  },
  "cells": [
    {
      "cell_type": "code",
      "execution_count": 1,
      "metadata": {
        "colab": {
          "base_uri": "https://localhost:8080/"
        },
        "id": "TusXKLEVImkS",
        "outputId": "11c2b9ba-66ae-4126-ff04-73ac7cbd7613"
      },
      "outputs": [
        {
          "output_type": "stream",
          "name": "stdout",
          "text": [
            "Looking in indexes: https://pypi.org/simple, https://us-python.pkg.dev/colab-wheels/public/simple/\n",
            "Requirement already satisfied: transformers in /usr/local/lib/python3.8/dist-packages (4.26.1)\n",
            "Requirement already satisfied: tqdm>=4.27 in /usr/local/lib/python3.8/dist-packages (from transformers) (4.64.1)\n",
            "Requirement already satisfied: pyyaml>=5.1 in /usr/local/lib/python3.8/dist-packages (from transformers) (6.0)\n",
            "Requirement already satisfied: huggingface-hub<1.0,>=0.11.0 in /usr/local/lib/python3.8/dist-packages (from transformers) (0.12.1)\n",
            "Requirement already satisfied: numpy>=1.17 in /usr/local/lib/python3.8/dist-packages (from transformers) (1.22.4)\n",
            "Requirement already satisfied: tokenizers!=0.11.3,<0.14,>=0.11.1 in /usr/local/lib/python3.8/dist-packages (from transformers) (0.13.2)\n",
            "Requirement already satisfied: regex!=2019.12.17 in /usr/local/lib/python3.8/dist-packages (from transformers) (2022.6.2)\n",
            "Requirement already satisfied: requests in /usr/local/lib/python3.8/dist-packages (from transformers) (2.25.1)\n",
            "Requirement already satisfied: filelock in /usr/local/lib/python3.8/dist-packages (from transformers) (3.9.0)\n",
            "Requirement already satisfied: packaging>=20.0 in /usr/local/lib/python3.8/dist-packages (from transformers) (23.0)\n",
            "Requirement already satisfied: typing-extensions>=3.7.4.3 in /usr/local/lib/python3.8/dist-packages (from huggingface-hub<1.0,>=0.11.0->transformers) (4.5.0)\n",
            "Requirement already satisfied: urllib3<1.27,>=1.21.1 in /usr/local/lib/python3.8/dist-packages (from requests->transformers) (1.24.3)\n",
            "Requirement already satisfied: idna<3,>=2.5 in /usr/local/lib/python3.8/dist-packages (from requests->transformers) (2.10)\n",
            "Requirement already satisfied: certifi>=2017.4.17 in /usr/local/lib/python3.8/dist-packages (from requests->transformers) (2022.12.7)\n",
            "Requirement already satisfied: chardet<5,>=3.0.2 in /usr/local/lib/python3.8/dist-packages (from requests->transformers) (4.0.0)\n"
          ]
        }
      ],
      "source": [
        "!pip install transformers"
      ]
    },
    {
      "cell_type": "code",
      "source": [
        "from transformers import AutoTokenizer, AutoModel\n",
        "tokenizer = AutoTokenizer.from_pretrained(\"bert-base-cased\")\n",
        "bert = AutoModel.from_pretrained(\"bert-base-cased\")"
      ],
      "metadata": {
        "colab": {
          "base_uri": "https://localhost:8080/"
        },
        "id": "g37Xc6_3I3J3",
        "outputId": "1e5162ce-a9ef-4945-b385-f6367b899d51"
      },
      "execution_count": 2,
      "outputs": [
        {
          "output_type": "stream",
          "name": "stderr",
          "text": [
            "Some weights of the model checkpoint at bert-base-cased were not used when initializing BertModel: ['cls.predictions.transform.dense.weight', 'cls.predictions.transform.LayerNorm.bias', 'cls.predictions.bias', 'cls.seq_relationship.bias', 'cls.predictions.transform.LayerNorm.weight', 'cls.predictions.transform.dense.bias', 'cls.predictions.decoder.weight', 'cls.seq_relationship.weight']\n",
            "- This IS expected if you are initializing BertModel from the checkpoint of a model trained on another task or with another architecture (e.g. initializing a BertForSequenceClassification model from a BertForPreTraining model).\n",
            "- This IS NOT expected if you are initializing BertModel from the checkpoint of a model that you expect to be exactly identical (initializing a BertForSequenceClassification model from a BertForSequenceClassification model).\n"
          ]
        }
      ]
    },
    {
      "cell_type": "code",
      "source": [
        "import pandas as pd\n",
        "df = pd.read_csv(\"/content/train.tsv\",sep=\"\\t\",encoding='ISO-8859-1',\n",
        "                 )"
      ],
      "metadata": {
        "id": "GcBNjGcJJFNm"
      },
      "execution_count": 3,
      "outputs": []
    },
    {
      "cell_type": "code",
      "source": [
        "df.head()"
      ],
      "metadata": {
        "colab": {
          "base_uri": "https://localhost:8080/",
          "height": 206
        },
        "id": "krAqp71wJFUn",
        "outputId": "9cd17292-f0dd-4357-b7a4-b4e92c4f9d3e"
      },
      "execution_count": 4,
      "outputs": [
        {
          "output_type": "execute_result",
          "data": {
            "text/plain": [
              "   PhraseId  SentenceId                                             Phrase  \\\n",
              "0         1           1  A series of escapades demonstrating the adage ...   \n",
              "1         2           1  A series of escapades demonstrating the adage ...   \n",
              "2         3           1                                           A series   \n",
              "3         4           1                                                  A   \n",
              "4         5           1                                             series   \n",
              "\n",
              "   Sentiment  \n",
              "0          1  \n",
              "1          2  \n",
              "2          2  \n",
              "3          2  \n",
              "4          2  "
            ],
            "text/html": [
              "\n",
              "  <div id=\"df-1a3334a6-d553-4e90-8173-3b42cb4b107b\">\n",
              "    <div class=\"colab-df-container\">\n",
              "      <div>\n",
              "<style scoped>\n",
              "    .dataframe tbody tr th:only-of-type {\n",
              "        vertical-align: middle;\n",
              "    }\n",
              "\n",
              "    .dataframe tbody tr th {\n",
              "        vertical-align: top;\n",
              "    }\n",
              "\n",
              "    .dataframe thead th {\n",
              "        text-align: right;\n",
              "    }\n",
              "</style>\n",
              "<table border=\"1\" class=\"dataframe\">\n",
              "  <thead>\n",
              "    <tr style=\"text-align: right;\">\n",
              "      <th></th>\n",
              "      <th>PhraseId</th>\n",
              "      <th>SentenceId</th>\n",
              "      <th>Phrase</th>\n",
              "      <th>Sentiment</th>\n",
              "    </tr>\n",
              "  </thead>\n",
              "  <tbody>\n",
              "    <tr>\n",
              "      <th>0</th>\n",
              "      <td>1</td>\n",
              "      <td>1</td>\n",
              "      <td>A series of escapades demonstrating the adage ...</td>\n",
              "      <td>1</td>\n",
              "    </tr>\n",
              "    <tr>\n",
              "      <th>1</th>\n",
              "      <td>2</td>\n",
              "      <td>1</td>\n",
              "      <td>A series of escapades demonstrating the adage ...</td>\n",
              "      <td>2</td>\n",
              "    </tr>\n",
              "    <tr>\n",
              "      <th>2</th>\n",
              "      <td>3</td>\n",
              "      <td>1</td>\n",
              "      <td>A series</td>\n",
              "      <td>2</td>\n",
              "    </tr>\n",
              "    <tr>\n",
              "      <th>3</th>\n",
              "      <td>4</td>\n",
              "      <td>1</td>\n",
              "      <td>A</td>\n",
              "      <td>2</td>\n",
              "    </tr>\n",
              "    <tr>\n",
              "      <th>4</th>\n",
              "      <td>5</td>\n",
              "      <td>1</td>\n",
              "      <td>series</td>\n",
              "      <td>2</td>\n",
              "    </tr>\n",
              "  </tbody>\n",
              "</table>\n",
              "</div>\n",
              "      <button class=\"colab-df-convert\" onclick=\"convertToInteractive('df-1a3334a6-d553-4e90-8173-3b42cb4b107b')\"\n",
              "              title=\"Convert this dataframe to an interactive table.\"\n",
              "              style=\"display:none;\">\n",
              "        \n",
              "  <svg xmlns=\"http://www.w3.org/2000/svg\" height=\"24px\"viewBox=\"0 0 24 24\"\n",
              "       width=\"24px\">\n",
              "    <path d=\"M0 0h24v24H0V0z\" fill=\"none\"/>\n",
              "    <path d=\"M18.56 5.44l.94 2.06.94-2.06 2.06-.94-2.06-.94-.94-2.06-.94 2.06-2.06.94zm-11 1L8.5 8.5l.94-2.06 2.06-.94-2.06-.94L8.5 2.5l-.94 2.06-2.06.94zm10 10l.94 2.06.94-2.06 2.06-.94-2.06-.94-.94-2.06-.94 2.06-2.06.94z\"/><path d=\"M17.41 7.96l-1.37-1.37c-.4-.4-.92-.59-1.43-.59-.52 0-1.04.2-1.43.59L10.3 9.45l-7.72 7.72c-.78.78-.78 2.05 0 2.83L4 21.41c.39.39.9.59 1.41.59.51 0 1.02-.2 1.41-.59l7.78-7.78 2.81-2.81c.8-.78.8-2.07 0-2.86zM5.41 20L4 18.59l7.72-7.72 1.47 1.35L5.41 20z\"/>\n",
              "  </svg>\n",
              "      </button>\n",
              "      \n",
              "  <style>\n",
              "    .colab-df-container {\n",
              "      display:flex;\n",
              "      flex-wrap:wrap;\n",
              "      gap: 12px;\n",
              "    }\n",
              "\n",
              "    .colab-df-convert {\n",
              "      background-color: #E8F0FE;\n",
              "      border: none;\n",
              "      border-radius: 50%;\n",
              "      cursor: pointer;\n",
              "      display: none;\n",
              "      fill: #1967D2;\n",
              "      height: 32px;\n",
              "      padding: 0 0 0 0;\n",
              "      width: 32px;\n",
              "    }\n",
              "\n",
              "    .colab-df-convert:hover {\n",
              "      background-color: #E2EBFA;\n",
              "      box-shadow: 0px 1px 2px rgba(60, 64, 67, 0.3), 0px 1px 3px 1px rgba(60, 64, 67, 0.15);\n",
              "      fill: #174EA6;\n",
              "    }\n",
              "\n",
              "    [theme=dark] .colab-df-convert {\n",
              "      background-color: #3B4455;\n",
              "      fill: #D2E3FC;\n",
              "    }\n",
              "\n",
              "    [theme=dark] .colab-df-convert:hover {\n",
              "      background-color: #434B5C;\n",
              "      box-shadow: 0px 1px 3px 1px rgba(0, 0, 0, 0.15);\n",
              "      filter: drop-shadow(0px 1px 2px rgba(0, 0, 0, 0.3));\n",
              "      fill: #FFFFFF;\n",
              "    }\n",
              "  </style>\n",
              "\n",
              "      <script>\n",
              "        const buttonEl =\n",
              "          document.querySelector('#df-1a3334a6-d553-4e90-8173-3b42cb4b107b button.colab-df-convert');\n",
              "        buttonEl.style.display =\n",
              "          google.colab.kernel.accessAllowed ? 'block' : 'none';\n",
              "\n",
              "        async function convertToInteractive(key) {\n",
              "          const element = document.querySelector('#df-1a3334a6-d553-4e90-8173-3b42cb4b107b');\n",
              "          const dataTable =\n",
              "            await google.colab.kernel.invokeFunction('convertToInteractive',\n",
              "                                                     [key], {});\n",
              "          if (!dataTable) return;\n",
              "\n",
              "          const docLinkHtml = 'Like what you see? Visit the ' +\n",
              "            '<a target=\"_blank\" href=https://colab.research.google.com/notebooks/data_table.ipynb>data table notebook</a>'\n",
              "            + ' to learn more about interactive tables.';\n",
              "          element.innerHTML = '';\n",
              "          dataTable['output_type'] = 'display_data';\n",
              "          await google.colab.output.renderOutput(dataTable, element);\n",
              "          const docLink = document.createElement('div');\n",
              "          docLink.innerHTML = docLinkHtml;\n",
              "          element.appendChild(docLink);\n",
              "        }\n",
              "      </script>\n",
              "    </div>\n",
              "  </div>\n",
              "  "
            ]
          },
          "metadata": {},
          "execution_count": 4
        }
      ]
    },
    {
      "cell_type": "code",
      "source": [
        "df.drop_duplicates(subset=[\"SentenceId\"],inplace=True,keep=\"first\")"
      ],
      "metadata": {
        "id": "YHZjtBLKJFZB"
      },
      "execution_count": 5,
      "outputs": []
    },
    {
      "cell_type": "code",
      "source": [
        "df.shape"
      ],
      "metadata": {
        "colab": {
          "base_uri": "https://localhost:8080/"
        },
        "id": "kUBYkbW-JFcr",
        "outputId": "ec080b6b-0047-42d1-e415-ee9c780c99be"
      },
      "execution_count": 6,
      "outputs": [
        {
          "output_type": "execute_result",
          "data": {
            "text/plain": [
              "(8529, 4)"
            ]
          },
          "metadata": {},
          "execution_count": 6
        }
      ]
    },
    {
      "cell_type": "code",
      "source": [
        "df.head()"
      ],
      "metadata": {
        "colab": {
          "base_uri": "https://localhost:8080/",
          "height": 206
        },
        "id": "0jVY8wjVKByf",
        "outputId": "16b20137-8a6e-4885-d52a-3de2482d3316"
      },
      "execution_count": 7,
      "outputs": [
        {
          "output_type": "execute_result",
          "data": {
            "text/plain": [
              "     PhraseId  SentenceId                                             Phrase  \\\n",
              "0           1           1  A series of escapades demonstrating the adage ...   \n",
              "63         64           2  This quiet , introspective and entertaining in...   \n",
              "81         82           3  Even fans of Ismail Merchant 's work , I suspe...   \n",
              "116       117           4  A positively thrilling combination of ethnogra...   \n",
              "156       157           5  Aggressive self-glorification and a manipulati...   \n",
              "\n",
              "     Sentiment  \n",
              "0            1  \n",
              "63           4  \n",
              "81           1  \n",
              "116          3  \n",
              "156          1  "
            ],
            "text/html": [
              "\n",
              "  <div id=\"df-856125d9-31f3-46fa-81ae-4d2433c459a0\">\n",
              "    <div class=\"colab-df-container\">\n",
              "      <div>\n",
              "<style scoped>\n",
              "    .dataframe tbody tr th:only-of-type {\n",
              "        vertical-align: middle;\n",
              "    }\n",
              "\n",
              "    .dataframe tbody tr th {\n",
              "        vertical-align: top;\n",
              "    }\n",
              "\n",
              "    .dataframe thead th {\n",
              "        text-align: right;\n",
              "    }\n",
              "</style>\n",
              "<table border=\"1\" class=\"dataframe\">\n",
              "  <thead>\n",
              "    <tr style=\"text-align: right;\">\n",
              "      <th></th>\n",
              "      <th>PhraseId</th>\n",
              "      <th>SentenceId</th>\n",
              "      <th>Phrase</th>\n",
              "      <th>Sentiment</th>\n",
              "    </tr>\n",
              "  </thead>\n",
              "  <tbody>\n",
              "    <tr>\n",
              "      <th>0</th>\n",
              "      <td>1</td>\n",
              "      <td>1</td>\n",
              "      <td>A series of escapades demonstrating the adage ...</td>\n",
              "      <td>1</td>\n",
              "    </tr>\n",
              "    <tr>\n",
              "      <th>63</th>\n",
              "      <td>64</td>\n",
              "      <td>2</td>\n",
              "      <td>This quiet , introspective and entertaining in...</td>\n",
              "      <td>4</td>\n",
              "    </tr>\n",
              "    <tr>\n",
              "      <th>81</th>\n",
              "      <td>82</td>\n",
              "      <td>3</td>\n",
              "      <td>Even fans of Ismail Merchant 's work , I suspe...</td>\n",
              "      <td>1</td>\n",
              "    </tr>\n",
              "    <tr>\n",
              "      <th>116</th>\n",
              "      <td>117</td>\n",
              "      <td>4</td>\n",
              "      <td>A positively thrilling combination of ethnogra...</td>\n",
              "      <td>3</td>\n",
              "    </tr>\n",
              "    <tr>\n",
              "      <th>156</th>\n",
              "      <td>157</td>\n",
              "      <td>5</td>\n",
              "      <td>Aggressive self-glorification and a manipulati...</td>\n",
              "      <td>1</td>\n",
              "    </tr>\n",
              "  </tbody>\n",
              "</table>\n",
              "</div>\n",
              "      <button class=\"colab-df-convert\" onclick=\"convertToInteractive('df-856125d9-31f3-46fa-81ae-4d2433c459a0')\"\n",
              "              title=\"Convert this dataframe to an interactive table.\"\n",
              "              style=\"display:none;\">\n",
              "        \n",
              "  <svg xmlns=\"http://www.w3.org/2000/svg\" height=\"24px\"viewBox=\"0 0 24 24\"\n",
              "       width=\"24px\">\n",
              "    <path d=\"M0 0h24v24H0V0z\" fill=\"none\"/>\n",
              "    <path d=\"M18.56 5.44l.94 2.06.94-2.06 2.06-.94-2.06-.94-.94-2.06-.94 2.06-2.06.94zm-11 1L8.5 8.5l.94-2.06 2.06-.94-2.06-.94L8.5 2.5l-.94 2.06-2.06.94zm10 10l.94 2.06.94-2.06 2.06-.94-2.06-.94-.94-2.06-.94 2.06-2.06.94z\"/><path d=\"M17.41 7.96l-1.37-1.37c-.4-.4-.92-.59-1.43-.59-.52 0-1.04.2-1.43.59L10.3 9.45l-7.72 7.72c-.78.78-.78 2.05 0 2.83L4 21.41c.39.39.9.59 1.41.59.51 0 1.02-.2 1.41-.59l7.78-7.78 2.81-2.81c.8-.78.8-2.07 0-2.86zM5.41 20L4 18.59l7.72-7.72 1.47 1.35L5.41 20z\"/>\n",
              "  </svg>\n",
              "      </button>\n",
              "      \n",
              "  <style>\n",
              "    .colab-df-container {\n",
              "      display:flex;\n",
              "      flex-wrap:wrap;\n",
              "      gap: 12px;\n",
              "    }\n",
              "\n",
              "    .colab-df-convert {\n",
              "      background-color: #E8F0FE;\n",
              "      border: none;\n",
              "      border-radius: 50%;\n",
              "      cursor: pointer;\n",
              "      display: none;\n",
              "      fill: #1967D2;\n",
              "      height: 32px;\n",
              "      padding: 0 0 0 0;\n",
              "      width: 32px;\n",
              "    }\n",
              "\n",
              "    .colab-df-convert:hover {\n",
              "      background-color: #E2EBFA;\n",
              "      box-shadow: 0px 1px 2px rgba(60, 64, 67, 0.3), 0px 1px 3px 1px rgba(60, 64, 67, 0.15);\n",
              "      fill: #174EA6;\n",
              "    }\n",
              "\n",
              "    [theme=dark] .colab-df-convert {\n",
              "      background-color: #3B4455;\n",
              "      fill: #D2E3FC;\n",
              "    }\n",
              "\n",
              "    [theme=dark] .colab-df-convert:hover {\n",
              "      background-color: #434B5C;\n",
              "      box-shadow: 0px 1px 3px 1px rgba(0, 0, 0, 0.15);\n",
              "      filter: drop-shadow(0px 1px 2px rgba(0, 0, 0, 0.3));\n",
              "      fill: #FFFFFF;\n",
              "    }\n",
              "  </style>\n",
              "\n",
              "      <script>\n",
              "        const buttonEl =\n",
              "          document.querySelector('#df-856125d9-31f3-46fa-81ae-4d2433c459a0 button.colab-df-convert');\n",
              "        buttonEl.style.display =\n",
              "          google.colab.kernel.accessAllowed ? 'block' : 'none';\n",
              "\n",
              "        async function convertToInteractive(key) {\n",
              "          const element = document.querySelector('#df-856125d9-31f3-46fa-81ae-4d2433c459a0');\n",
              "          const dataTable =\n",
              "            await google.colab.kernel.invokeFunction('convertToInteractive',\n",
              "                                                     [key], {});\n",
              "          if (!dataTable) return;\n",
              "\n",
              "          const docLinkHtml = 'Like what you see? Visit the ' +\n",
              "            '<a target=\"_blank\" href=https://colab.research.google.com/notebooks/data_table.ipynb>data table notebook</a>'\n",
              "            + ' to learn more about interactive tables.';\n",
              "          element.innerHTML = '';\n",
              "          dataTable['output_type'] = 'display_data';\n",
              "          await google.colab.output.renderOutput(dataTable, element);\n",
              "          const docLink = document.createElement('div');\n",
              "          docLink.innerHTML = docLinkHtml;\n",
              "          element.appendChild(docLink);\n",
              "        }\n",
              "      </script>\n",
              "    </div>\n",
              "  </div>\n",
              "  "
            ]
          },
          "metadata": {},
          "execution_count": 7
        }
      ]
    },
    {
      "cell_type": "code",
      "source": [
        "df.columns"
      ],
      "metadata": {
        "colab": {
          "base_uri": "https://localhost:8080/"
        },
        "id": "Sr9sXFnoKECm",
        "outputId": "4fc5d1e4-d8cd-41ca-ae12-95377e3d1669"
      },
      "execution_count": 8,
      "outputs": [
        {
          "output_type": "execute_result",
          "data": {
            "text/plain": [
              "Index(['PhraseId', 'SentenceId', 'Phrase', 'Sentiment'], dtype='object')"
            ]
          },
          "metadata": {},
          "execution_count": 8
        }
      ]
    },
    {
      "cell_type": "code",
      "source": [
        "seq_len = 50\n",
        "tokenizer = AutoTokenizer.from_pretrained(\"bert-base-cased\")\n"
      ],
      "metadata": {
        "id": "psc04cRaKHOX"
      },
      "execution_count": 9,
      "outputs": []
    },
    {
      "cell_type": "code",
      "source": [
        "def tokenize(text):\n",
        "  tokens = tokenizer.encode_plus(text, max_length=seq_len,\n",
        "                                   truncation=True, padding='max_length',\n",
        "                                   add_special_tokens=True, return_attention_mask=True,\n",
        "                                   return_token_type_ids=False, return_tensors='tf')\n",
        "  return tokens['input_ids'], tokens['attention_mask']"
      ],
      "metadata": {
        "id": "KfhugdplKSKH"
      },
      "execution_count": 10,
      "outputs": []
    },
    {
      "cell_type": "code",
      "source": [
        "df = df.iloc[1:1000]"
      ],
      "metadata": {
        "id": "pqyVoZ2fV4Xk"
      },
      "execution_count": 11,
      "outputs": []
    },
    {
      "cell_type": "code",
      "source": [
        "import numpy as np\n",
        "x_ids = np.zeros((len(df),seq_len))\n",
        "x_mask = np.zeros((len(df),seq_len))\n"
      ],
      "metadata": {
        "id": "rLfH16bsU17l"
      },
      "execution_count": 12,
      "outputs": []
    },
    {
      "cell_type": "code",
      "source": [
        "x_ids[0]"
      ],
      "metadata": {
        "colab": {
          "base_uri": "https://localhost:8080/"
        },
        "id": "nzB7y-7LVxKD",
        "outputId": "c0fdadb4-d54c-4351-e77b-cec80c3e1aa1"
      },
      "execution_count": 13,
      "outputs": [
        {
          "output_type": "execute_result",
          "data": {
            "text/plain": [
              "array([0., 0., 0., 0., 0., 0., 0., 0., 0., 0., 0., 0., 0., 0., 0., 0., 0.,\n",
              "       0., 0., 0., 0., 0., 0., 0., 0., 0., 0., 0., 0., 0., 0., 0., 0., 0.,\n",
              "       0., 0., 0., 0., 0., 0., 0., 0., 0., 0., 0., 0., 0., 0., 0., 0.])"
            ]
          },
          "metadata": {},
          "execution_count": 13
        }
      ]
    },
    {
      "cell_type": "code",
      "source": [
        "for i, sent in enumerate(df[\"Phrase\"]):\n",
        "  x_ids[i,:],x_mask[i,:] = tokenize(sent)"
      ],
      "metadata": {
        "id": "ZsCkZlZZWcPZ"
      },
      "execution_count": 14,
      "outputs": []
    },
    {
      "cell_type": "code",
      "source": [],
      "metadata": {
        "id": "2w0yRQUPWcXt"
      },
      "execution_count": 14,
      "outputs": []
    },
    {
      "cell_type": "code",
      "source": [
        "arr = df[\"Sentiment\"].values"
      ],
      "metadata": {
        "id": "zfST01w5Wkci"
      },
      "execution_count": 15,
      "outputs": []
    },
    {
      "cell_type": "code",
      "source": [
        "labels = np.zeros((arr.size,arr.max()+1))\n",
        "labels[np.arange(arr.size),arr] = 1"
      ],
      "metadata": {
        "id": "Ii-zo7dwWrzM"
      },
      "execution_count": 16,
      "outputs": []
    },
    {
      "cell_type": "code",
      "source": [
        "labels"
      ],
      "metadata": {
        "colab": {
          "base_uri": "https://localhost:8080/"
        },
        "id": "PyvNO6hwXFlJ",
        "outputId": "cf40814d-2a39-45fb-9b27-7fefc4473693"
      },
      "execution_count": 17,
      "outputs": [
        {
          "output_type": "execute_result",
          "data": {
            "text/plain": [
              "array([[0., 0., 0., 0., 1.],\n",
              "       [0., 1., 0., 0., 0.],\n",
              "       [0., 0., 0., 1., 0.],\n",
              "       ...,\n",
              "       [0., 1., 0., 0., 0.],\n",
              "       [0., 0., 0., 1., 0.],\n",
              "       [0., 1., 0., 0., 0.]])"
            ]
          },
          "metadata": {},
          "execution_count": 17
        }
      ]
    },
    {
      "cell_type": "code",
      "source": [
        "with open('twitter-xids.npy', 'wb') as f:\n",
        "    np.save(f, x_ids)\n",
        "with open('twitter-xmask.npy', 'wb') as f:\n",
        "    np.save(f, x_mask)\n",
        "with open('twitter-labels.npy', 'wb') as f:\n",
        "    np.save(f, labels)"
      ],
      "metadata": {
        "id": "vhdxXD7kXNAD"
      },
      "execution_count": 18,
      "outputs": []
    },
    {
      "cell_type": "code",
      "source": [
        "import tensorflow as tf\n",
        "batch_size = 16\n",
        "dataset = tf.data.Dataset.from_tensor_slices((x_ids,x_mask,labels))\n"
      ],
      "metadata": {
        "id": "lgjBKwIIY4dT"
      },
      "execution_count": 19,
      "outputs": []
    },
    {
      "cell_type": "code",
      "source": [
        "def map_func(input_ids, masks, labels):\n",
        "    return {'input_ids': input_ids, 'attention_mask': masks}, labels"
      ],
      "metadata": {
        "id": "1X-H264bY4ln"
      },
      "execution_count": 20,
      "outputs": []
    },
    {
      "cell_type": "code",
      "source": [
        "dataset = dataset.map(map_func)"
      ],
      "metadata": {
        "id": "QbodgFQgY4ou"
      },
      "execution_count": 21,
      "outputs": []
    },
    {
      "cell_type": "code",
      "source": [
        "dataset = dataset.shuffle(1000).batch(batch_size)"
      ],
      "metadata": {
        "id": "Dc_wc6DOZdaK"
      },
      "execution_count": 22,
      "outputs": []
    },
    {
      "cell_type": "code",
      "source": [
        "len(dataset)"
      ],
      "metadata": {
        "colab": {
          "base_uri": "https://localhost:8080/"
        },
        "id": "97kGJEOKZdce",
        "outputId": "97af8d67-2323-4600-947c-7b19ff606ee9"
      },
      "execution_count": 23,
      "outputs": [
        {
          "output_type": "execute_result",
          "data": {
            "text/plain": [
              "63"
            ]
          },
          "metadata": {},
          "execution_count": 23
        }
      ]
    },
    {
      "cell_type": "code",
      "source": [
        "len([0 for batch in dataset])\n",
        "  "
      ],
      "metadata": {
        "colab": {
          "base_uri": "https://localhost:8080/"
        },
        "id": "XXunwoX9ZdfD",
        "outputId": "7b5de82f-5757-4250-e479-33d0b87ba073"
      },
      "execution_count": 24,
      "outputs": [
        {
          "output_type": "execute_result",
          "data": {
            "text/plain": [
              "63"
            ]
          },
          "metadata": {},
          "execution_count": 24
        }
      ]
    },
    {
      "cell_type": "code",
      "source": [
        "ds_len = len([0 for batch in dataset])\n",
        "split = .8\n",
        "train = dataset.take(round(ds_len*split))\n",
        "test = dataset.skip(round(ds_len*split))\n",
        " "
      ],
      "metadata": {
        "id": "yjwJ3srSZdid"
      },
      "execution_count": 25,
      "outputs": []
    },
    {
      "cell_type": "code",
      "source": [
        "del dataset"
      ],
      "metadata": {
        "id": "r8IZNh46ZdlD"
      },
      "execution_count": 26,
      "outputs": []
    },
    {
      "cell_type": "code",
      "source": [
        "from transformers import AutoTokenizer,TFAutoModel\n",
        "bert = TFAutoModel.from_pretrained(\"bert-base-cased\")\n",
        "input_ids = tf.keras.layers.Input(shape=(50,),name=\"input_ids\",dtype=\"int32\")\n",
        "mask = tf.keras.layers.Input(shape=(50,),name=\"attention_mask\",dtype=\"int32\")"
      ],
      "metadata": {
        "colab": {
          "base_uri": "https://localhost:8080/"
        },
        "id": "KWXpWHFjZdnb",
        "outputId": "fc7e6b88-6ee8-4cb5-df5d-41f9dcf76809"
      },
      "execution_count": 27,
      "outputs": [
        {
          "output_type": "stream",
          "name": "stderr",
          "text": [
            "Some layers from the model checkpoint at bert-base-cased were not used when initializing TFBertModel: ['nsp___cls', 'mlm___cls']\n",
            "- This IS expected if you are initializing TFBertModel from the checkpoint of a model trained on another task or with another architecture (e.g. initializing a BertForSequenceClassification model from a BertForPreTraining model).\n",
            "- This IS NOT expected if you are initializing TFBertModel from the checkpoint of a model that you expect to be exactly identical (initializing a BertForSequenceClassification model from a BertForSequenceClassification model).\n",
            "All the layers of TFBertModel were initialized from the model checkpoint at bert-base-cased.\n",
            "If your task is similar to the task the model of the checkpoint was trained on, you can already use TFBertModel for predictions without further training.\n"
          ]
        }
      ]
    },
    {
      "cell_type": "code",
      "source": [
        "embedding = bert(input_ids,attention_mask=mask)[0]\n",
        "x = tf.keras.layers.LSTM(64)(embedding)\n",
        "x = tf.keras.layers.BatchNormalization()(x)\n",
        "x = tf.keras.layers.Dense(64,activation=\"relu\")(x)\n",
        "x = tf.keras.layers.Dropout(.1)(x)\n",
        "y = tf.keras.layers.Dense(5,activation=\"softmax\",name=\"outputs\")(x)\n",
        "\n",
        "model = tf.keras.Model(inputs =[input_ids,mask],outputs=y)\n"
      ],
      "metadata": {
        "id": "_RuTUByrb7zT"
      },
      "execution_count": 34,
      "outputs": []
    },
    {
      "cell_type": "code",
      "source": [
        "model.layers"
      ],
      "metadata": {
        "colab": {
          "base_uri": "https://localhost:8080/"
        },
        "id": "rvmdJzN-eCt9",
        "outputId": "3d95236e-4132-4a46-bff3-1f574af77ac2"
      },
      "execution_count": 35,
      "outputs": [
        {
          "output_type": "execute_result",
          "data": {
            "text/plain": [
              "[<keras.engine.input_layer.InputLayer at 0x7efe0ec71d60>,\n",
              " <keras.engine.input_layer.InputLayer at 0x7efd962bbd60>,\n",
              " <transformers.models.bert.modeling_tf_bert.TFBertModel at 0x7efd962b7070>,\n",
              " <keras.layers.rnn.lstm.LSTM at 0x7efd82b24730>,\n",
              " <keras.layers.normalization.batch_normalization.BatchNormalization at 0x7efd82b246a0>,\n",
              " <keras.layers.core.dense.Dense at 0x7efd832b8430>,\n",
              " <keras.layers.regularization.dropout.Dropout at 0x7efd83191a60>,\n",
              " <keras.layers.core.dense.Dense at 0x7efd8325a7f0>]"
            ]
          },
          "metadata": {},
          "execution_count": 35
        }
      ]
    },
    {
      "cell_type": "code",
      "source": [
        "model.layers[2].trainable = False"
      ],
      "metadata": {
        "id": "UNMKd8XWeDBf"
      },
      "execution_count": 36,
      "outputs": []
    },
    {
      "cell_type": "code",
      "source": [
        "## Training"
      ],
      "metadata": {
        "id": "jxtzLQ-6b74d"
      },
      "execution_count": 31,
      "outputs": []
    },
    {
      "cell_type": "markdown",
      "source": [
        "## Training"
      ],
      "metadata": {
        "id": "RINox_yHeYXI"
      }
    },
    {
      "cell_type": "code",
      "source": [
        "optimizer = tf.keras.optimizers.Adam(0.01)\n",
        "loss = tf.keras.losses.CategoricalCrossentropy()\n",
        "acc = tf.keras.metrics.CategoricalAccuracy(\"accuracy\")\n",
        "model.compile(optimizer=optimizer,loss=loss,metrics=[acc])"
      ],
      "metadata": {
        "id": "fHYRo8Hbb78X"
      },
      "execution_count": 37,
      "outputs": []
    },
    {
      "cell_type": "code",
      "source": [
        "history = model.fit(train,validation_data =test,epochs=40)"
      ],
      "metadata": {
        "colab": {
          "base_uri": "https://localhost:8080/"
        },
        "id": "_o5jaGqVb8C4",
        "outputId": "5869291e-422a-47d8-c553-ea74780ff238"
      },
      "execution_count": 39,
      "outputs": [
        {
          "output_type": "stream",
          "name": "stdout",
          "text": [
            "Epoch 1/40\n",
            "50/50 [==============================] - 6s 124ms/step - loss: 1.2443 - accuracy: 0.4775 - val_loss: 1.2013 - val_accuracy: 0.5226\n",
            "Epoch 2/40\n",
            "50/50 [==============================] - 5s 95ms/step - loss: 1.1498 - accuracy: 0.5200 - val_loss: 1.2462 - val_accuracy: 0.4774\n",
            "Epoch 3/40\n",
            "50/50 [==============================] - 5s 107ms/step - loss: 1.1354 - accuracy: 0.5100 - val_loss: 1.0801 - val_accuracy: 0.5578\n",
            "Epoch 4/40\n",
            "50/50 [==============================] - 5s 92ms/step - loss: 1.1061 - accuracy: 0.5312 - val_loss: 0.8569 - val_accuracy: 0.6784\n",
            "Epoch 5/40\n",
            "50/50 [==============================] - 5s 93ms/step - loss: 1.0480 - accuracy: 0.5575 - val_loss: 1.1440 - val_accuracy: 0.5879\n",
            "Epoch 6/40\n",
            "50/50 [==============================] - 6s 123ms/step - loss: 1.0433 - accuracy: 0.5663 - val_loss: 1.1049 - val_accuracy: 0.4874\n",
            "Epoch 7/40\n",
            "50/50 [==============================] - 5s 95ms/step - loss: 1.0341 - accuracy: 0.5700 - val_loss: 0.7488 - val_accuracy: 0.7035\n",
            "Epoch 8/40\n",
            "50/50 [==============================] - 5s 104ms/step - loss: 0.9727 - accuracy: 0.5925 - val_loss: 0.8786 - val_accuracy: 0.6131\n",
            "Epoch 9/40\n",
            "50/50 [==============================] - 5s 94ms/step - loss: 0.9112 - accuracy: 0.6225 - val_loss: 0.7253 - val_accuracy: 0.7387\n",
            "Epoch 10/40\n",
            "50/50 [==============================] - 5s 105ms/step - loss: 0.8845 - accuracy: 0.6363 - val_loss: 0.8351 - val_accuracy: 0.6332\n",
            "Epoch 11/40\n",
            "50/50 [==============================] - 5s 95ms/step - loss: 0.9132 - accuracy: 0.6525 - val_loss: 0.7235 - val_accuracy: 0.7337\n",
            "Epoch 12/40\n",
            "50/50 [==============================] - 5s 104ms/step - loss: 0.9172 - accuracy: 0.6212 - val_loss: 0.6505 - val_accuracy: 0.7487\n",
            "Epoch 13/40\n",
            "50/50 [==============================] - 5s 92ms/step - loss: 0.8298 - accuracy: 0.6587 - val_loss: 0.6078 - val_accuracy: 0.7588\n",
            "Epoch 14/40\n",
            "50/50 [==============================] - 5s 102ms/step - loss: 0.8114 - accuracy: 0.6837 - val_loss: 0.8727 - val_accuracy: 0.7186\n",
            "Epoch 15/40\n",
            "50/50 [==============================] - 5s 99ms/step - loss: 0.8650 - accuracy: 0.6600 - val_loss: 0.8228 - val_accuracy: 0.6633\n",
            "Epoch 16/40\n",
            "50/50 [==============================] - 5s 93ms/step - loss: 0.7772 - accuracy: 0.6938 - val_loss: 0.5310 - val_accuracy: 0.7889\n",
            "Epoch 17/40\n",
            "50/50 [==============================] - 5s 105ms/step - loss: 0.7608 - accuracy: 0.7025 - val_loss: 0.5854 - val_accuracy: 0.7588\n",
            "Epoch 18/40\n",
            "50/50 [==============================] - 5s 95ms/step - loss: 0.7880 - accuracy: 0.6963 - val_loss: 1.0443 - val_accuracy: 0.6533\n",
            "Epoch 19/40\n",
            "50/50 [==============================] - 5s 93ms/step - loss: 0.8675 - accuracy: 0.6562 - val_loss: 0.4986 - val_accuracy: 0.7889\n",
            "Epoch 20/40\n",
            "50/50 [==============================] - 5s 107ms/step - loss: 0.7359 - accuracy: 0.7375 - val_loss: 0.4929 - val_accuracy: 0.8090\n",
            "Epoch 21/40\n",
            "50/50 [==============================] - 5s 93ms/step - loss: 0.7278 - accuracy: 0.7175 - val_loss: 0.4441 - val_accuracy: 0.8291\n",
            "Epoch 22/40\n",
            "50/50 [==============================] - 5s 91ms/step - loss: 0.6901 - accuracy: 0.7312 - val_loss: 0.5975 - val_accuracy: 0.7889\n",
            "Epoch 23/40\n",
            "50/50 [==============================] - 5s 106ms/step - loss: 0.6917 - accuracy: 0.7312 - val_loss: 0.3078 - val_accuracy: 0.8995\n",
            "Epoch 24/40\n",
            "50/50 [==============================] - 5s 92ms/step - loss: 0.6687 - accuracy: 0.7575 - val_loss: 0.3705 - val_accuracy: 0.8442\n",
            "Epoch 25/40\n",
            "50/50 [==============================] - 5s 96ms/step - loss: 0.6984 - accuracy: 0.7500 - val_loss: 0.4602 - val_accuracy: 0.7889\n",
            "Epoch 26/40\n",
            "50/50 [==============================] - 6s 114ms/step - loss: 0.6663 - accuracy: 0.7500 - val_loss: 0.4541 - val_accuracy: 0.8291\n",
            "Epoch 27/40\n",
            "50/50 [==============================] - 5s 108ms/step - loss: 0.6843 - accuracy: 0.7337 - val_loss: 0.2946 - val_accuracy: 0.8844\n",
            "Epoch 28/40\n",
            "50/50 [==============================] - 5s 95ms/step - loss: 0.5929 - accuracy: 0.7725 - val_loss: 0.2809 - val_accuracy: 0.8844\n",
            "Epoch 29/40\n",
            "50/50 [==============================] - 5s 108ms/step - loss: 0.6938 - accuracy: 0.7500 - val_loss: 0.4397 - val_accuracy: 0.8543\n",
            "Epoch 30/40\n",
            "50/50 [==============================] - 5s 93ms/step - loss: 0.6512 - accuracy: 0.7588 - val_loss: 0.3428 - val_accuracy: 0.8492\n",
            "Epoch 31/40\n",
            "50/50 [==============================] - 5s 104ms/step - loss: 0.6299 - accuracy: 0.7688 - val_loss: 0.5077 - val_accuracy: 0.7990\n",
            "Epoch 32/40\n",
            "50/50 [==============================] - 5s 100ms/step - loss: 0.6241 - accuracy: 0.7588 - val_loss: 0.2828 - val_accuracy: 0.8995\n",
            "Epoch 33/40\n",
            "50/50 [==============================] - 5s 93ms/step - loss: 0.5608 - accuracy: 0.8000 - val_loss: 0.2467 - val_accuracy: 0.9146\n",
            "Epoch 34/40\n",
            "50/50 [==============================] - 5s 107ms/step - loss: 0.5633 - accuracy: 0.7875 - val_loss: 0.2941 - val_accuracy: 0.9045\n",
            "Epoch 35/40\n",
            "50/50 [==============================] - 5s 93ms/step - loss: 0.6032 - accuracy: 0.7850 - val_loss: 0.2536 - val_accuracy: 0.9196\n",
            "Epoch 36/40\n",
            "50/50 [==============================] - 5s 105ms/step - loss: 0.5783 - accuracy: 0.7850 - val_loss: 0.3435 - val_accuracy: 0.8693\n",
            "Epoch 37/40\n",
            "50/50 [==============================] - 5s 92ms/step - loss: 0.6236 - accuracy: 0.7837 - val_loss: 0.4244 - val_accuracy: 0.8442\n",
            "Epoch 38/40\n",
            "50/50 [==============================] - 5s 100ms/step - loss: 0.6118 - accuracy: 0.7600 - val_loss: 0.2452 - val_accuracy: 0.9196\n",
            "Epoch 39/40\n",
            "50/50 [==============================] - 5s 101ms/step - loss: 0.5499 - accuracy: 0.8138 - val_loss: 0.2125 - val_accuracy: 0.9196\n",
            "Epoch 40/40\n",
            "50/50 [==============================] - 5s 92ms/step - loss: 0.6148 - accuracy: 0.7625 - val_loss: 0.2824 - val_accuracy: 0.9045\n"
          ]
        }
      ]
    },
    {
      "cell_type": "code",
      "source": [],
      "metadata": {
        "id": "Ot4OrmCdb8IF"
      },
      "execution_count": null,
      "outputs": []
    }
  ]
}